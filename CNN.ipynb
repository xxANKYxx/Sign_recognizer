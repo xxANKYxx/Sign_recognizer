{
 "cells": [
  {
   "cell_type": "code",
   "execution_count": 1,
   "metadata": {},
   "outputs": [],
   "source": [
    "import numpy as np\n",
    "import  keras\n",
    "from keras import backend as K\n",
    "from keras.layers.core import Dense\n",
    "from keras.optimizers import Adam\n",
    "from keras.metrics import categorical_crossentropy\n",
    "from keras.preprocessing.image import ImageDataGenerator\n",
    "from keras.preprocessing import image\n",
    "from keras.models import Model\n",
    "from keras.applications import imagenet_utils\n",
    "from sklearn.metrics import confusion_matrix\n",
    "import itertools\n",
    "import matplotlib.pyplot as plt\n",
    "from keras.models import Sequential\n",
    "from tensorflow import keras\n",
    "\n"
   ]
  },
  {
   "cell_type": "code",
   "execution_count": 2,
   "metadata": {},
   "outputs": [],
   "source": [
    "moblie=keras.applications.mobilenet.MobileNet()"
   ]
  },
  {
   "cell_type": "code",
   "execution_count": 7,
   "metadata": {},
   "outputs": [],
   "source": [
    "train_path='train'\n",
    "valid_path='valid'\n",
    "test_path='test'"
   ]
  },
  {
   "cell_type": "code",
   "execution_count": 13,
   "metadata": {},
   "outputs": [
    {
     "name": "stdout",
     "output_type": "stream",
     "text": [
      "Found 2062 images belonging to 10 classes.\n",
      "Found 302 images belonging to 10 classes.\n",
      "Found 301 images belonging to 10 classes.\n"
     ]
    }
   ],
   "source": [
    "train_batches=ImageDataGenerator(preprocessing_function=keras.applications.mobilenet.preprocess_input).flow_from_directory(train_path,target_size=(224,224),batch_size=10)\n",
    "test_batches=ImageDataGenerator(preprocessing_function=keras.applications.mobilenet.preprocess_input).flow_from_directory(test_path,target_size=(224,224),batch_size=10)\n",
    "valid_batches=ImageDataGenerator(preprocessing_function=keras.applications.mobilenet.preprocess_input).flow_from_directory(valid_path,target_size=(224,224),batch_size=10)"
   ]
  },
  {
   "cell_type": "code",
   "execution_count": 14,
   "metadata": {},
   "outputs": [],
   "source": [
    "x=moblie.layers[-6].output\n",
    "prediction =Dense(10,activation='softmax')(x)"
   ]
  },
  {
   "cell_type": "code",
   "execution_count": 16,
   "metadata": {},
   "outputs": [],
   "source": [
    "model=Model(inputs=moblie.input,outputs=prediction)"
   ]
  },
  {
   "cell_type": "code",
   "execution_count": 17,
   "metadata": {},
   "outputs": [
    {
     "name": "stdout",
     "output_type": "stream",
     "text": [
      "Model: \"model_1\"\n",
      "_________________________________________________________________\n",
      "Layer (type)                 Output Shape              Param #   \n",
      "=================================================================\n",
      "input_1 (InputLayer)         [(None, 224, 224, 3)]     0         \n",
      "_________________________________________________________________\n",
      "conv1_pad (ZeroPadding2D)    (None, 225, 225, 3)       0         \n",
      "_________________________________________________________________\n",
      "conv1 (Conv2D)               (None, 112, 112, 32)      864       \n",
      "_________________________________________________________________\n",
      "conv1_bn (BatchNormalization (None, 112, 112, 32)      128       \n",
      "_________________________________________________________________\n",
      "conv1_relu (ReLU)            (None, 112, 112, 32)      0         \n",
      "_________________________________________________________________\n",
      "conv_dw_1 (DepthwiseConv2D)  (None, 112, 112, 32)      288       \n",
      "_________________________________________________________________\n",
      "conv_dw_1_bn (BatchNormaliza (None, 112, 112, 32)      128       \n",
      "_________________________________________________________________\n",
      "conv_dw_1_relu (ReLU)        (None, 112, 112, 32)      0         \n",
      "_________________________________________________________________\n",
      "conv_pw_1 (Conv2D)           (None, 112, 112, 64)      2048      \n",
      "_________________________________________________________________\n",
      "conv_pw_1_bn (BatchNormaliza (None, 112, 112, 64)      256       \n",
      "_________________________________________________________________\n",
      "conv_pw_1_relu (ReLU)        (None, 112, 112, 64)      0         \n",
      "_________________________________________________________________\n",
      "conv_pad_2 (ZeroPadding2D)   (None, 113, 113, 64)      0         \n",
      "_________________________________________________________________\n",
      "conv_dw_2 (DepthwiseConv2D)  (None, 56, 56, 64)        576       \n",
      "_________________________________________________________________\n",
      "conv_dw_2_bn (BatchNormaliza (None, 56, 56, 64)        256       \n",
      "_________________________________________________________________\n",
      "conv_dw_2_relu (ReLU)        (None, 56, 56, 64)        0         \n",
      "_________________________________________________________________\n",
      "conv_pw_2 (Conv2D)           (None, 56, 56, 128)       8192      \n",
      "_________________________________________________________________\n",
      "conv_pw_2_bn (BatchNormaliza (None, 56, 56, 128)       512       \n",
      "_________________________________________________________________\n",
      "conv_pw_2_relu (ReLU)        (None, 56, 56, 128)       0         \n",
      "_________________________________________________________________\n",
      "conv_dw_3 (DepthwiseConv2D)  (None, 56, 56, 128)       1152      \n",
      "_________________________________________________________________\n",
      "conv_dw_3_bn (BatchNormaliza (None, 56, 56, 128)       512       \n",
      "_________________________________________________________________\n",
      "conv_dw_3_relu (ReLU)        (None, 56, 56, 128)       0         \n",
      "_________________________________________________________________\n",
      "conv_pw_3 (Conv2D)           (None, 56, 56, 128)       16384     \n",
      "_________________________________________________________________\n",
      "conv_pw_3_bn (BatchNormaliza (None, 56, 56, 128)       512       \n",
      "_________________________________________________________________\n",
      "conv_pw_3_relu (ReLU)        (None, 56, 56, 128)       0         \n",
      "_________________________________________________________________\n",
      "conv_pad_4 (ZeroPadding2D)   (None, 57, 57, 128)       0         \n",
      "_________________________________________________________________\n",
      "conv_dw_4 (DepthwiseConv2D)  (None, 28, 28, 128)       1152      \n",
      "_________________________________________________________________\n",
      "conv_dw_4_bn (BatchNormaliza (None, 28, 28, 128)       512       \n",
      "_________________________________________________________________\n",
      "conv_dw_4_relu (ReLU)        (None, 28, 28, 128)       0         \n",
      "_________________________________________________________________\n",
      "conv_pw_4 (Conv2D)           (None, 28, 28, 256)       32768     \n",
      "_________________________________________________________________\n",
      "conv_pw_4_bn (BatchNormaliza (None, 28, 28, 256)       1024      \n",
      "_________________________________________________________________\n",
      "conv_pw_4_relu (ReLU)        (None, 28, 28, 256)       0         \n",
      "_________________________________________________________________\n",
      "conv_dw_5 (DepthwiseConv2D)  (None, 28, 28, 256)       2304      \n",
      "_________________________________________________________________\n",
      "conv_dw_5_bn (BatchNormaliza (None, 28, 28, 256)       1024      \n",
      "_________________________________________________________________\n",
      "conv_dw_5_relu (ReLU)        (None, 28, 28, 256)       0         \n",
      "_________________________________________________________________\n",
      "conv_pw_5 (Conv2D)           (None, 28, 28, 256)       65536     \n",
      "_________________________________________________________________\n",
      "conv_pw_5_bn (BatchNormaliza (None, 28, 28, 256)       1024      \n",
      "_________________________________________________________________\n",
      "conv_pw_5_relu (ReLU)        (None, 28, 28, 256)       0         \n",
      "_________________________________________________________________\n",
      "conv_pad_6 (ZeroPadding2D)   (None, 29, 29, 256)       0         \n",
      "_________________________________________________________________\n",
      "conv_dw_6 (DepthwiseConv2D)  (None, 14, 14, 256)       2304      \n",
      "_________________________________________________________________\n",
      "conv_dw_6_bn (BatchNormaliza (None, 14, 14, 256)       1024      \n",
      "_________________________________________________________________\n",
      "conv_dw_6_relu (ReLU)        (None, 14, 14, 256)       0         \n",
      "_________________________________________________________________\n",
      "conv_pw_6 (Conv2D)           (None, 14, 14, 512)       131072    \n",
      "_________________________________________________________________\n",
      "conv_pw_6_bn (BatchNormaliza (None, 14, 14, 512)       2048      \n",
      "_________________________________________________________________\n",
      "conv_pw_6_relu (ReLU)        (None, 14, 14, 512)       0         \n",
      "_________________________________________________________________\n",
      "conv_dw_7 (DepthwiseConv2D)  (None, 14, 14, 512)       4608      \n",
      "_________________________________________________________________\n",
      "conv_dw_7_bn (BatchNormaliza (None, 14, 14, 512)       2048      \n",
      "_________________________________________________________________\n",
      "conv_dw_7_relu (ReLU)        (None, 14, 14, 512)       0         \n",
      "_________________________________________________________________\n",
      "conv_pw_7 (Conv2D)           (None, 14, 14, 512)       262144    \n",
      "_________________________________________________________________\n",
      "conv_pw_7_bn (BatchNormaliza (None, 14, 14, 512)       2048      \n",
      "_________________________________________________________________\n",
      "conv_pw_7_relu (ReLU)        (None, 14, 14, 512)       0         \n",
      "_________________________________________________________________\n",
      "conv_dw_8 (DepthwiseConv2D)  (None, 14, 14, 512)       4608      \n",
      "_________________________________________________________________\n",
      "conv_dw_8_bn (BatchNormaliza (None, 14, 14, 512)       2048      \n",
      "_________________________________________________________________\n",
      "conv_dw_8_relu (ReLU)        (None, 14, 14, 512)       0         \n",
      "_________________________________________________________________\n",
      "conv_pw_8 (Conv2D)           (None, 14, 14, 512)       262144    \n",
      "_________________________________________________________________\n",
      "conv_pw_8_bn (BatchNormaliza (None, 14, 14, 512)       2048      \n",
      "_________________________________________________________________\n",
      "conv_pw_8_relu (ReLU)        (None, 14, 14, 512)       0         \n",
      "_________________________________________________________________\n",
      "conv_dw_9 (DepthwiseConv2D)  (None, 14, 14, 512)       4608      \n",
      "_________________________________________________________________\n",
      "conv_dw_9_bn (BatchNormaliza (None, 14, 14, 512)       2048      \n",
      "_________________________________________________________________\n",
      "conv_dw_9_relu (ReLU)        (None, 14, 14, 512)       0         \n",
      "_________________________________________________________________\n",
      "conv_pw_9 (Conv2D)           (None, 14, 14, 512)       262144    \n",
      "_________________________________________________________________\n",
      "conv_pw_9_bn (BatchNormaliza (None, 14, 14, 512)       2048      \n",
      "_________________________________________________________________\n",
      "conv_pw_9_relu (ReLU)        (None, 14, 14, 512)       0         \n",
      "_________________________________________________________________\n",
      "conv_dw_10 (DepthwiseConv2D) (None, 14, 14, 512)       4608      \n",
      "_________________________________________________________________\n",
      "conv_dw_10_bn (BatchNormaliz (None, 14, 14, 512)       2048      \n",
      "_________________________________________________________________\n",
      "conv_dw_10_relu (ReLU)       (None, 14, 14, 512)       0         \n",
      "_________________________________________________________________\n",
      "conv_pw_10 (Conv2D)          (None, 14, 14, 512)       262144    \n",
      "_________________________________________________________________\n",
      "conv_pw_10_bn (BatchNormaliz (None, 14, 14, 512)       2048      \n",
      "_________________________________________________________________\n",
      "conv_pw_10_relu (ReLU)       (None, 14, 14, 512)       0         \n",
      "_________________________________________________________________\n",
      "conv_dw_11 (DepthwiseConv2D) (None, 14, 14, 512)       4608      \n",
      "_________________________________________________________________\n",
      "conv_dw_11_bn (BatchNormaliz (None, 14, 14, 512)       2048      \n",
      "_________________________________________________________________\n",
      "conv_dw_11_relu (ReLU)       (None, 14, 14, 512)       0         \n",
      "_________________________________________________________________\n",
      "conv_pw_11 (Conv2D)          (None, 14, 14, 512)       262144    \n",
      "_________________________________________________________________\n",
      "conv_pw_11_bn (BatchNormaliz (None, 14, 14, 512)       2048      \n",
      "_________________________________________________________________\n",
      "conv_pw_11_relu (ReLU)       (None, 14, 14, 512)       0         \n",
      "_________________________________________________________________\n",
      "conv_pad_12 (ZeroPadding2D)  (None, 15, 15, 512)       0         \n",
      "_________________________________________________________________\n",
      "conv_dw_12 (DepthwiseConv2D) (None, 7, 7, 512)         4608      \n",
      "_________________________________________________________________\n",
      "conv_dw_12_bn (BatchNormaliz (None, 7, 7, 512)         2048      \n",
      "_________________________________________________________________\n",
      "conv_dw_12_relu (ReLU)       (None, 7, 7, 512)         0         \n",
      "_________________________________________________________________\n",
      "conv_pw_12 (Conv2D)          (None, 7, 7, 1024)        524288    \n",
      "_________________________________________________________________\n",
      "conv_pw_12_bn (BatchNormaliz (None, 7, 7, 1024)        4096      \n",
      "_________________________________________________________________\n",
      "conv_pw_12_relu (ReLU)       (None, 7, 7, 1024)        0         \n",
      "_________________________________________________________________\n",
      "conv_dw_13 (DepthwiseConv2D) (None, 7, 7, 1024)        9216      \n",
      "_________________________________________________________________\n",
      "conv_dw_13_bn (BatchNormaliz (None, 7, 7, 1024)        4096      \n",
      "_________________________________________________________________\n",
      "conv_dw_13_relu (ReLU)       (None, 7, 7, 1024)        0         \n",
      "_________________________________________________________________\n",
      "conv_pw_13 (Conv2D)          (None, 7, 7, 1024)        1048576   \n",
      "_________________________________________________________________\n",
      "conv_pw_13_bn (BatchNormaliz (None, 7, 7, 1024)        4096      \n",
      "_________________________________________________________________\n",
      "conv_pw_13_relu (ReLU)       (None, 7, 7, 1024)        0         \n",
      "_________________________________________________________________\n",
      "global_average_pooling2d (Gl (None, 1024)              0         \n",
      "_________________________________________________________________\n",
      "dense_1 (Dense)              (None, 10)                10250     \n",
      "=================================================================\n",
      "Total params: 3,239,114\n",
      "Trainable params: 1,060,874\n",
      "Non-trainable params: 2,178,240\n",
      "_________________________________________________________________\n"
     ]
    }
   ],
   "source": [
    "model.summary()"
   ]
  },
  {
   "cell_type": "code",
   "execution_count": 18,
   "metadata": {},
   "outputs": [],
   "source": [
    "for layers in model.layers[:-23]:\n",
    "    layers.trainable=False"
   ]
  },
  {
   "cell_type": "code",
   "execution_count": 21,
   "metadata": {},
   "outputs": [],
   "source": [
    "model.compile(Adam(lr=0.0001),loss='categorical_crossentropy',metrics=['accuracy'])"
   ]
  },
  {
   "cell_type": "code",
   "execution_count": 22,
   "metadata": {},
   "outputs": [
    {
     "name": "stdout",
     "output_type": "stream",
     "text": [
      "Epoch 1/60\n",
      "18/18 - 15s - loss: 2.1819 - accuracy: 0.2722 - val_loss: 2.9531 - val_accuracy: 0.1000\n",
      "Epoch 2/60\n",
      "18/18 - 11s - loss: 1.2110 - accuracy: 0.6556 - val_loss: 3.5533 - val_accuracy: 0.2000\n",
      "Epoch 3/60\n",
      "18/18 - 11s - loss: 0.9745 - accuracy: 0.7444 - val_loss: 3.8339 - val_accuracy: 0.0667\n",
      "Epoch 4/60\n",
      "18/18 - 11s - loss: 0.7847 - accuracy: 0.7833 - val_loss: 3.2090 - val_accuracy: 0.1000\n",
      "Epoch 5/60\n",
      "18/18 - 11s - loss: 0.5624 - accuracy: 0.8944 - val_loss: 1.9827 - val_accuracy: 0.2667\n",
      "Epoch 6/60\n",
      "18/18 - 11s - loss: 0.5620 - accuracy: 0.8722 - val_loss: 1.7206 - val_accuracy: 0.2667\n",
      "Epoch 7/60\n",
      "18/18 - 11s - loss: 0.5220 - accuracy: 0.8722 - val_loss: 1.6497 - val_accuracy: 0.5333\n",
      "Epoch 8/60\n",
      "18/18 - 11s - loss: 0.4400 - accuracy: 0.9222 - val_loss: 1.4587 - val_accuracy: 0.5333\n",
      "Epoch 9/60\n",
      "18/18 - 11s - loss: 0.3155 - accuracy: 0.9333 - val_loss: 0.9252 - val_accuracy: 0.6333\n",
      "Epoch 10/60\n",
      "18/18 - 11s - loss: 0.3177 - accuracy: 0.9333 - val_loss: 0.5382 - val_accuracy: 0.8000\n",
      "Epoch 11/60\n",
      "18/18 - 11s - loss: 0.2679 - accuracy: 0.9667 - val_loss: 0.7115 - val_accuracy: 0.7667\n",
      "Epoch 12/60\n",
      "18/18 - 11s - loss: 0.3918 - accuracy: 0.9333 - val_loss: 0.3409 - val_accuracy: 0.9000\n",
      "Epoch 13/60\n",
      "18/18 - 11s - loss: 0.2358 - accuracy: 0.9556 - val_loss: 0.5142 - val_accuracy: 0.6667\n",
      "Epoch 14/60\n",
      "18/18 - 11s - loss: 0.2547 - accuracy: 0.9556 - val_loss: 0.5619 - val_accuracy: 0.8000\n",
      "Epoch 15/60\n",
      "18/18 - 11s - loss: 0.2118 - accuracy: 0.9778 - val_loss: 0.3153 - val_accuracy: 0.9333\n",
      "Epoch 16/60\n",
      "18/18 - 11s - loss: 0.1947 - accuracy: 0.9667 - val_loss: 0.5045 - val_accuracy: 0.7667\n",
      "Epoch 17/60\n",
      "18/18 - 11s - loss: 0.1596 - accuracy: 0.9833 - val_loss: 0.4051 - val_accuracy: 0.7667\n",
      "Epoch 18/60\n",
      "18/18 - 11s - loss: 0.2245 - accuracy: 0.9593 - val_loss: 0.1759 - val_accuracy: 1.0000\n",
      "Epoch 19/60\n",
      "18/18 - 11s - loss: 0.1492 - accuracy: 0.9778 - val_loss: 0.1872 - val_accuracy: 0.9667\n",
      "Epoch 20/60\n",
      "18/18 - 11s - loss: 0.1657 - accuracy: 0.9778 - val_loss: 0.1570 - val_accuracy: 0.9667\n",
      "Epoch 21/60\n",
      "18/18 - 11s - loss: 0.1514 - accuracy: 0.9778 - val_loss: 0.0870 - val_accuracy: 1.0000\n",
      "Epoch 22/60\n",
      "18/18 - 11s - loss: 0.1387 - accuracy: 0.9709 - val_loss: 0.1436 - val_accuracy: 1.0000\n",
      "Epoch 23/60\n",
      "18/18 - 11s - loss: 0.1310 - accuracy: 0.9889 - val_loss: 0.2677 - val_accuracy: 0.9333\n",
      "Epoch 24/60\n",
      "18/18 - 11s - loss: 0.1539 - accuracy: 0.9611 - val_loss: 0.1072 - val_accuracy: 1.0000\n",
      "Epoch 25/60\n",
      "18/18 - 11s - loss: 0.1565 - accuracy: 0.9778 - val_loss: 0.2552 - val_accuracy: 0.9000\n",
      "Epoch 26/60\n",
      "18/18 - 11s - loss: 0.1401 - accuracy: 0.9833 - val_loss: 0.1982 - val_accuracy: 0.9667\n",
      "Epoch 27/60\n",
      "18/18 - 11s - loss: 0.1334 - accuracy: 0.9722 - val_loss: 0.0869 - val_accuracy: 1.0000\n",
      "Epoch 28/60\n",
      "18/18 - 11s - loss: 0.1265 - accuracy: 0.9778 - val_loss: 0.0897 - val_accuracy: 1.0000\n",
      "Epoch 29/60\n",
      "18/18 - 11s - loss: 0.1102 - accuracy: 0.9942 - val_loss: 0.0730 - val_accuracy: 1.0000\n",
      "Epoch 30/60\n",
      "18/18 - 11s - loss: 0.0984 - accuracy: 0.9889 - val_loss: 0.0915 - val_accuracy: 0.9667\n",
      "Epoch 31/60\n",
      "18/18 - 11s - loss: 0.1002 - accuracy: 0.9889 - val_loss: 0.3033 - val_accuracy: 0.9000\n",
      "Epoch 32/60\n",
      "18/18 - 11s - loss: 0.1061 - accuracy: 0.9833 - val_loss: 0.1493 - val_accuracy: 0.9333\n",
      "Epoch 33/60\n",
      "18/18 - 11s - loss: 0.1157 - accuracy: 0.9778 - val_loss: 0.1942 - val_accuracy: 0.9333\n",
      "Epoch 34/60\n",
      "18/18 - 11s - loss: 0.1480 - accuracy: 0.9778 - val_loss: 0.1033 - val_accuracy: 0.9667\n",
      "Epoch 35/60\n",
      "18/18 - 11s - loss: 0.0930 - accuracy: 0.9944 - val_loss: 0.0859 - val_accuracy: 1.0000\n",
      "Epoch 36/60\n",
      "18/18 - 11s - loss: 0.0616 - accuracy: 0.9889 - val_loss: 0.0584 - val_accuracy: 1.0000\n",
      "Epoch 37/60\n",
      "18/18 - 11s - loss: 0.1008 - accuracy: 0.9833 - val_loss: 0.0728 - val_accuracy: 1.0000\n",
      "Epoch 38/60\n",
      "18/18 - 11s - loss: 0.0893 - accuracy: 0.9889 - val_loss: 0.0685 - val_accuracy: 1.0000\n",
      "Epoch 39/60\n",
      "18/18 - 11s - loss: 0.0825 - accuracy: 0.9833 - val_loss: 0.0840 - val_accuracy: 0.9667\n",
      "Epoch 40/60\n",
      "18/18 - 11s - loss: 0.0962 - accuracy: 0.9944 - val_loss: 0.0308 - val_accuracy: 1.0000\n",
      "Epoch 41/60\n",
      "18/18 - 11s - loss: 0.1020 - accuracy: 0.9778 - val_loss: 0.0477 - val_accuracy: 1.0000\n",
      "Epoch 42/60\n",
      "18/18 - 11s - loss: 0.0803 - accuracy: 0.9778 - val_loss: 0.0493 - val_accuracy: 1.0000\n",
      "Epoch 43/60\n",
      "18/18 - 11s - loss: 0.0636 - accuracy: 0.9944 - val_loss: 0.0298 - val_accuracy: 1.0000\n",
      "Epoch 44/60\n",
      "18/18 - 11s - loss: 0.0599 - accuracy: 1.0000 - val_loss: 0.0432 - val_accuracy: 1.0000\n",
      "Epoch 45/60\n",
      "18/18 - 11s - loss: 0.0625 - accuracy: 0.9944 - val_loss: 0.0139 - val_accuracy: 1.0000\n",
      "Epoch 46/60\n",
      "18/18 - 12s - loss: 0.0574 - accuracy: 0.9944 - val_loss: 0.0349 - val_accuracy: 1.0000\n",
      "Epoch 47/60\n",
      "18/18 - 11s - loss: 0.0572 - accuracy: 1.0000 - val_loss: 0.0390 - val_accuracy: 1.0000\n",
      "Epoch 48/60\n",
      "18/18 - 11s - loss: 0.0515 - accuracy: 0.9944 - val_loss: 0.0493 - val_accuracy: 0.9667\n",
      "Epoch 49/60\n",
      "18/18 - 11s - loss: 0.0749 - accuracy: 0.9889 - val_loss: 0.0466 - val_accuracy: 1.0000\n",
      "Epoch 50/60\n",
      "18/18 - 11s - loss: 0.0526 - accuracy: 1.0000 - val_loss: 0.0269 - val_accuracy: 1.0000\n",
      "Epoch 51/60\n",
      "18/18 - 11s - loss: 0.0383 - accuracy: 1.0000 - val_loss: 0.0334 - val_accuracy: 1.0000\n",
      "Epoch 52/60\n",
      "18/18 - 11s - loss: 0.0484 - accuracy: 1.0000 - val_loss: 0.0316 - val_accuracy: 1.0000\n",
      "Epoch 53/60\n",
      "18/18 - 11s - loss: 0.0573 - accuracy: 0.9944 - val_loss: 0.0119 - val_accuracy: 1.0000\n",
      "Epoch 54/60\n",
      "18/18 - 12s - loss: 0.0503 - accuracy: 1.0000 - val_loss: 0.0342 - val_accuracy: 1.0000\n",
      "Epoch 55/60\n",
      "18/18 - 11s - loss: 0.0401 - accuracy: 1.0000 - val_loss: 0.0340 - val_accuracy: 1.0000\n",
      "Epoch 56/60\n",
      "18/18 - 11s - loss: 0.0870 - accuracy: 0.9833 - val_loss: 0.0143 - val_accuracy: 1.0000\n",
      "Epoch 57/60\n",
      "18/18 - 11s - loss: 0.0437 - accuracy: 1.0000 - val_loss: 0.0187 - val_accuracy: 1.0000\n",
      "Epoch 58/60\n",
      "18/18 - 11s - loss: 0.0639 - accuracy: 0.9944 - val_loss: 0.0433 - val_accuracy: 1.0000\n",
      "Epoch 59/60\n",
      "18/18 - 11s - loss: 0.0344 - accuracy: 1.0000 - val_loss: 0.0287 - val_accuracy: 1.0000\n",
      "Epoch 60/60\n",
      "18/18 - 11s - loss: 0.0611 - accuracy: 0.9944 - val_loss: 0.0351 - val_accuracy: 1.0000\n"
     ]
    },
    {
     "data": {
      "text/plain": [
       "<tensorflow.python.keras.callbacks.History at 0xb687674288>"
      ]
     },
     "execution_count": 22,
     "metadata": {},
     "output_type": "execute_result"
    }
   ],
   "source": [
    "model.fit_generator(train_batches,steps_per_epoch=18,validation_data=valid_batches,validation_steps=3,epochs=60,verbose=2)"
   ]
  },
  {
   "cell_type": "code",
   "execution_count": 23,
   "metadata": {},
   "outputs": [],
   "source": [
    "test_labels=test_batches.classes"
   ]
  },
  {
   "cell_type": "code",
   "execution_count": 24,
   "metadata": {},
   "outputs": [
    {
     "data": {
      "text/plain": [
       "array([0, 0, 0, 0, 0, 0, 0, 0, 0, 0, 0, 0, 0, 0, 0, 0, 0, 0, 0, 0, 0, 0,\n",
       "       0, 0, 0, 0, 0, 0, 0, 0, 1, 1, 1, 1, 1, 1, 1, 1, 1, 1, 1, 1, 1, 1,\n",
       "       1, 1, 1, 1, 1, 1, 1, 1, 1, 1, 1, 1, 1, 1, 1, 1, 1, 2, 2, 2, 2, 2,\n",
       "       2, 2, 2, 2, 2, 2, 2, 2, 2, 2, 2, 2, 2, 2, 2, 2, 2, 2, 2, 2, 2, 2,\n",
       "       2, 2, 2, 3, 3, 3, 3, 3, 3, 3, 3, 3, 3, 3, 3, 3, 3, 3, 3, 3, 3, 3,\n",
       "       3, 3, 3, 3, 3, 3, 3, 3, 3, 3, 3, 4, 4, 4, 4, 4, 4, 4, 4, 4, 4, 4,\n",
       "       4, 4, 4, 4, 4, 4, 4, 4, 4, 4, 4, 4, 4, 4, 4, 4, 4, 4, 4, 4, 5, 5,\n",
       "       5, 5, 5, 5, 5, 5, 5, 5, 5, 5, 5, 5, 5, 5, 5, 5, 5, 5, 5, 5, 5, 5,\n",
       "       5, 5, 5, 5, 5, 5, 6, 6, 6, 6, 6, 6, 6, 6, 6, 6, 6, 6, 6, 6, 6, 6,\n",
       "       6, 6, 6, 6, 6, 6, 6, 6, 6, 6, 6, 6, 6, 6, 7, 7, 7, 7, 7, 7, 7, 7,\n",
       "       7, 7, 7, 7, 7, 7, 7, 7, 7, 7, 7, 7, 7, 7, 7, 7, 7, 7, 7, 7, 7, 7,\n",
       "       8, 8, 8, 8, 8, 8, 8, 8, 8, 8, 8, 8, 8, 8, 8, 8, 8, 8, 8, 8, 8, 8,\n",
       "       8, 8, 8, 8, 8, 8, 8, 8, 9, 9, 9, 9, 9, 9, 9, 9, 9, 9, 9, 9, 9, 9,\n",
       "       9, 9, 9, 9, 9, 9, 9, 9, 9, 9, 9, 9, 9, 9, 9, 9])"
      ]
     },
     "execution_count": 24,
     "metadata": {},
     "output_type": "execute_result"
    }
   ],
   "source": [
    "prediction=model.predict()\n"
   ]
  },
  {
   "cell_type": "code",
   "execution_count": 27,
   "metadata": {},
   "outputs": [],
   "source": [
    "def prep_image(file):\n",
    "    img_path='Examples/'\n",
    "    img =image.load_img(img_path+file,target_size=(224,224))\n",
    "    img_array=image.img_to_array(img)\n",
    "    img_array_expanded=np.expand_dims(img_array,axis=0)\n",
    "    return keras.applications.mobilenet.preprocess_input(img_array_expanded)\n"
   ]
  },
  {
   "cell_type": "code",
   "execution_count": 38,
   "metadata": {},
   "outputs": [
    {
     "data": {
      "text/plain": [
       "0"
      ]
     },
     "execution_count": 38,
     "metadata": {},
     "output_type": "execute_result"
    }
   ],
   "source": [
    "preprocessed_img=prep_image('checkfirst.jpg')\n",
    "predictions=model.predict(preprocessed_img)\n",
    "np.argmax(predictions)"
   ]
  },
  {
   "cell_type": "code",
   "execution_count": null,
   "metadata": {},
   "outputs": [],
   "source": []
  },
  {
   "cell_type": "code",
   "execution_count": null,
   "metadata": {},
   "outputs": [],
   "source": []
  }
 ],
 "metadata": {
  "kernelspec": {
   "display_name": "Python 3",
   "language": "python",
   "name": "python3"
  },
  "language_info": {
   "codemirror_mode": {
    "name": "ipython",
    "version": 3
   },
   "file_extension": ".py",
   "mimetype": "text/x-python",
   "name": "python",
   "nbconvert_exporter": "python",
   "pygments_lexer": "ipython3",
   "version": "3.7.5"
  }
 },
 "nbformat": 4,
 "nbformat_minor": 4
}
